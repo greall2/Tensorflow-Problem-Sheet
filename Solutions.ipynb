{
 "cells": [
  {
   "cell_type": "markdown",
   "metadata": {},
   "source": [
    "# Tensorflow Problem Sheet\n",
    "\n",
    "Solutions to the Tensorflow Problem Sheet as part of Emerging Technologies Module - 4th Year Software Development\n",
    " \n",
    "#### Reference: https://github.com/emerging-technologies/keras-iris"
   ]
  },
  {
   "cell_type": "markdown",
   "metadata": {},
   "source": [
    "Firstly, we get all needed imports and then load in the [Iris Dataset](https://github.com/mwaskom/seaborn-data/blob/master/iris.csv) into a list\n"
   ]
  },
  {
   "cell_type": "code",
   "execution_count": null,
   "metadata": {},
   "outputs": [],
   "source": [
    "# Adapted from: https://github.com/salmanahmad4u/keras-iris/blob/master/iris_nn.py\n",
    "\n",
    "import csv\n",
    "import numpy as np\n",
    "import keras as kr\n",
    "\n",
    "# Loading in the Iris dataset\n",
    "iris = list(csv.reader(open('iris.csv')))[1:]\n",
    "\n",
    "\n"
   ]
  },
  {
   "cell_type": "markdown",
   "metadata": {},
   "source": [
    "Next we want to split the dataset into float Arrays of Sepal Length, sepal width, petal length and petal with.\n",
    "<br>\n",
    "We do this using the 'Slicing' Technique. Slicing is is used when you want to seperate a list/array etc into sub-elements.\n",
    "<br>\n",
    "<br>\n",
    "\n",
    "Then where we have the outputs: Setosa, Versocolor or Virginica\n",
    "<br>\n",
    "We want to convert these strings into ints\n"
   ]
  },
  {
   "cell_type": "code",
   "execution_count": null,
   "metadata": {
    "collapsed": true
   },
   "outputs": [],
   "source": [
    "# The inputs are four floats\n",
    "inpts  = np.array(iris)[:,:4].astype(np.float)\n",
    "\n",
    "# Outputs are initially individual strings: setosa, versicolor or virginica.\n",
    "out = np.array(iris)[:,4]\n",
    "# Converting the strings to ints.\n",
    "out_vals, out_ints = np.unique(out, return_inverse=True)\n",
    "# Encode the category integers as binary categorical vairables.\n",
    "out_cats = kr.utils.to_categorical(out_ints)"
   ]
  },
  {
   "cell_type": "code",
   "execution_count": null,
   "metadata": {
    "collapsed": true
   },
   "outputs": [],
   "source": []
  }
 ],
 "metadata": {
  "kernelspec": {
   "display_name": "Python 3",
   "language": "python",
   "name": "python3"
  },
  "language_info": {
   "codemirror_mode": {
    "name": "ipython",
    "version": 3
   },
   "file_extension": ".py",
   "mimetype": "text/x-python",
   "name": "python",
   "nbconvert_exporter": "python",
   "pygments_lexer": "ipython3",
   "version": "3.6.3"
  }
 },
 "nbformat": 4,
 "nbformat_minor": 2
}
